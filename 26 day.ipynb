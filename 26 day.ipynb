{
 "cells": [
  {
   "cell_type": "markdown",
   "metadata": {},
   "source": [
    "Recursion in python"
   ]
  },
  {
   "cell_type": "markdown",
   "metadata": {},
   "source": [
    "recursion is the process of defining something in terms of itself"
   ]
  },
  {
   "cell_type": "code",
   "execution_count": 5,
   "metadata": {},
   "outputs": [
    {
     "name": "stdout",
     "output_type": "stream",
     "text": [
      "6\n"
     ]
    },
    {
     "data": {
      "text/plain": [
       "40320"
      ]
     },
     "execution_count": 5,
     "metadata": {},
     "output_type": "execute_result"
    }
   ],
   "source": [
    "# factorial(7)=7*6*5*4*3*2*1\n",
    "# factorial (6)=6*5*4*3*2*1\n",
    "# factorial (5)=5*4*3*2*1\n",
    "#factorial(n)=n*factorial(n_1)\n",
    "def factorial(n):\n",
    "    if (n==0 or n==1):\n",
    "        return 1\n",
    "    else:\n",
    "        return n *factorial(n-1)\n",
    "print(factorial(3))\n",
    "factorial(5)\n",
    "factorial(8)"
   ]
  },
  {
   "cell_type": "markdown",
   "metadata": {},
   "source": [
    "fibonaci sequence"
   ]
  },
  {
   "cell_type": "code",
   "execution_count": null,
   "metadata": {},
   "outputs": [],
   "source": [
    "# f(0)=0\n",
    "# f(1)=1\n",
    "# f(2)=f(1)+f(0)\n",
    "# f(n)=f(n-1)+f(n-2)"
   ]
  },
  {
   "cell_type": "code",
   "execution_count": 8,
   "metadata": {},
   "outputs": [
    {
     "name": "stdout",
     "output_type": "stream",
     "text": [
      "Fibonacci series:\n",
      "0\n",
      "1\n",
      "1\n",
      "2\n",
      "3\n"
     ]
    }
   ],
   "source": [
    "n = int(input(\"Enter the number of terms: \"))\n",
    "\n",
    "# Validate input\n",
    "if n <= 0:\n",
    "    print(\"Please enter a positive integer.\")\n",
    "else:\n",
    "    a, b = 0, 1  # Initialize the first two terms of the Fibonacci series\n",
    "    print(\"Fibonacci series:\")\n",
    "    for i in range(n):\n",
    "        print(a)  # Print the current term\n",
    "        a, b = b, a + b  # Update the values of a and b\n"
   ]
  }
 ],
 "metadata": {
  "kernelspec": {
   "display_name": "base",
   "language": "python",
   "name": "python3"
  },
  "language_info": {
   "codemirror_mode": {
    "name": "ipython",
    "version": 3
   },
   "file_extension": ".py",
   "mimetype": "text/x-python",
   "name": "python",
   "nbconvert_exporter": "python",
   "pygments_lexer": "ipython3",
   "version": "3.12.4"
  }
 },
 "nbformat": 4,
 "nbformat_minor": 2
}
