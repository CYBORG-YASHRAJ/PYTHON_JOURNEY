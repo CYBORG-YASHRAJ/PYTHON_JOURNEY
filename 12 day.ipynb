{
 "cells": [
  {
   "cell_type": "markdown",
   "metadata": {},
   "source": [
    "Create a python program capable of greeting good morning ,good afternoon , good evening,your program should use time module to get the current hour."
   ]
  },
  {
   "cell_type": "code",
   "execution_count": 74,
   "metadata": {},
   "outputs": [
    {
     "name": "stdout",
     "output_type": "stream",
     "text": [
      "2\n",
      "Hello\n"
     ]
    }
   ],
   "source": [
    "import time\n",
    "\n",
    "# Get the current hour\n",
    "current_hour = int(time.strftime(\"%H\"))\n",
    "print(current_hour)\n",
    "\n",
    "# Determine the appropriate greeting\n",
    "if 5 <= current_hour < 12:\n",
    "    print(\"Good Morning\")\n",
    "elif 12 <= current_hour < 17:\n",
    "    print(\"Good Afternoon\")\n",
    "elif 17 <= current_hour < 21:\n",
    "    print(\"Good Evening\")\n",
    "else:\n",
    "    print(\"Hello\")  # Default greeting for night hours\n",
    "\n",
    "\n"
   ]
  },
  {
   "cell_type": "markdown",
   "metadata": {},
   "source": []
  }
 ],
 "metadata": {
  "kernelspec": {
   "display_name": "base",
   "language": "python",
   "name": "python3"
  },
  "language_info": {
   "codemirror_mode": {
    "name": "ipython",
    "version": 3
   },
   "file_extension": ".py",
   "mimetype": "text/x-python",
   "name": "python",
   "nbconvert_exporter": "python",
   "pygments_lexer": "ipython3",
   "version": "3.12.4"
  }
 },
 "nbformat": 4,
 "nbformat_minor": 2
}
