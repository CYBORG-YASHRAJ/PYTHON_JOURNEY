{
 "cells": [
  {
   "cell_type": "markdown",
   "metadata": {},
   "source": [
    "Tuple method in python"
   ]
  },
  {
   "cell_type": "markdown",
   "metadata": {},
   "source": [
    "tuples are immutable but the elements can be changed by converting tuple into list and vice versa."
   ]
  },
  {
   "cell_type": "code",
   "execution_count": 9,
   "metadata": {},
   "outputs": [
    {
     "name": "stdout",
     "output_type": "stream",
     "text": [
      "('india', 'asia', 'america', 'austria', 'italy', 'russia', 'france', 'england')\n",
      "\n",
      "('bharat', 'austria', 'england', 'france', 'india', 'italy', 'russia', 'china')\n"
     ]
    }
   ],
   "source": [
    "countries=(\"india\", \"asia\", \"america\", \"austria\", \"italy\", \"russia\", \"france\", \"england\")\n",
    "print(countries)\n",
    "temp=list(countries)\n",
    "print()\n",
    "temp.sort()\n",
    "#print(temp)\n",
    "temp.append(\"china\") # add the country\n",
    "#print(temp)\n",
    "temp.pop(1)  # remove the country\n",
    "#print(temp)\n",
    "temp[0]=\"bharat\"\n",
    "#print(temp) #change the country\n",
    "countries=tuple(temp)\n",
    "print(countries)"
   ]
  },
  {
   "cell_type": "markdown",
   "metadata": {},
   "source": [
    "tuples can perform concatenation"
   ]
  },
  {
   "cell_type": "code",
   "execution_count": 11,
   "metadata": {},
   "outputs": [
    {
     "name": "stdout",
     "output_type": "stream",
     "text": [
      "('bharat', 'austria', 'england', 'france', 'india', 'italy', 'russia', 'china', 'vietnam', 'pakistan', 'bangladesh', 'sri lanka')\n"
     ]
    }
   ],
   "source": [
    "countries2=(\"vietnam\", \"pakistan\", \"bangladesh\", \"sri lanka\")\n",
    "countriess=countries+countries2\n",
    "print(countriess)"
   ]
  },
  {
   "cell_type": "code",
   "execution_count": 13,
   "metadata": {},
   "outputs": [
    {
     "data": {
      "text/plain": [
       "5"
      ]
     },
     "execution_count": 13,
     "metadata": {},
     "output_type": "execute_result"
    }
   ],
   "source": [
    "tuple1=(0,1,2,3,2,3,23,3,2,4,1,3,3,2)\n",
    "tuple1.count(3)"
   ]
  },
  {
   "cell_type": "code",
   "execution_count": 20,
   "metadata": {},
   "outputs": [
    {
     "data": {
      "text/plain": [
       "3"
      ]
     },
     "execution_count": 20,
     "metadata": {},
     "output_type": "execute_result"
    }
   ],
   "source": [
    "tuple1.index(3)"
   ]
  },
  {
   "cell_type": "code",
   "execution_count": 21,
   "metadata": {},
   "outputs": [
    {
     "data": {
      "text/plain": [
       "5"
      ]
     },
     "execution_count": 21,
     "metadata": {},
     "output_type": "execute_result"
    }
   ],
   "source": [
    "tuple1.index(3,4,8)"
   ]
  }
 ],
 "metadata": {
  "kernelspec": {
   "display_name": "base",
   "language": "python",
   "name": "python3"
  },
  "language_info": {
   "codemirror_mode": {
    "name": "ipython",
    "version": 3
   },
   "file_extension": ".py",
   "mimetype": "text/x-python",
   "name": "python",
   "nbconvert_exporter": "python",
   "pygments_lexer": "ipython3",
   "version": "3.12.4"
  }
 },
 "nbformat": 4,
 "nbformat_minor": 2
}
