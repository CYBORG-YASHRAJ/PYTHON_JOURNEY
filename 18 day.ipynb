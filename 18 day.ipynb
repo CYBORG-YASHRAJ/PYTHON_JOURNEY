{
 "cells": [
  {
   "cell_type": "markdown",
   "metadata": {},
   "source": [
    "FUNCTION ARGUMENTS -1 "
   ]
  },
  {
   "cell_type": "code",
   "execution_count": 25,
   "metadata": {},
   "outputs": [
    {
     "name": "stdout",
     "output_type": "stream",
     "text": [
      "the average is 5.0\n"
     ]
    }
   ],
   "source": [
    "def average(a,b):   #arguments are (a and b)\n",
    "    print(\"the average is\",(a+b)/2)\n",
    "average(4,6)"
   ]
  },
  {
   "cell_type": "markdown",
   "metadata": {},
   "source": [
    "CASE 1"
   ]
  },
  {
   "cell_type": "code",
   "execution_count": 26,
   "metadata": {},
   "outputs": [
    {
     "name": "stdout",
     "output_type": "stream",
     "text": [
      "the average is 5.0\n"
     ]
    }
   ],
   "source": [
    "def average(a=9,b=6):   # default arguments are (a=9 and b=6)\n",
    "    print(\"the average is\",(a+b)/2)\n",
    "average(4,6) #average (a,b) will result in average of default arguments"
   ]
  },
  {
   "cell_type": "markdown",
   "metadata": {},
   "source": [
    "CASE 2"
   ]
  },
  {
   "cell_type": "code",
   "execution_count": 27,
   "metadata": {},
   "outputs": [
    {
     "name": "stdout",
     "output_type": "stream",
     "text": [
      "the average is 7.0\n"
     ]
    }
   ],
   "source": [
    "def average(a=9,b=10):   # deafultarguments are (a and b)\n",
    "    print(\"the average is\",(a+b)/2)\n",
    "average(4) # in this case deafult argument of b is used here"
   ]
  },
  {
   "cell_type": "code",
   "execution_count": 28,
   "metadata": {},
   "outputs": [
    {
     "name": "stdout",
     "output_type": "stream",
     "text": [
      "the average is 14.5\n"
     ]
    }
   ],
   "source": [
    "def average(a=9,b=10):   # default arguments are (a and b)\n",
    "    print(\"the average is\",(a+b)/2)\n",
    "average(b=20) # b is defined here and a is used as default argument"
   ]
  },
  {
   "cell_type": "code",
   "execution_count": 29,
   "metadata": {},
   "outputs": [
    {
     "name": "stdout",
     "output_type": "stream",
     "text": [
      "hello Amy Agarwal jain\n"
     ]
    }
   ],
   "source": [
    "def name(fname,mname=\"Jhon\",iname=\"Whatson\"):\n",
    "    print(\"hello\",fname,mname,iname)\n",
    "name(\"Amy\",\"Agarwal\",\"jain\")"
   ]
  }
 ],
 "metadata": {
  "kernelspec": {
   "display_name": "base",
   "language": "python",
   "name": "python3"
  },
  "language_info": {
   "codemirror_mode": {
    "name": "ipython",
    "version": 3
   },
   "file_extension": ".py",
   "mimetype": "text/x-python",
   "name": "python",
   "nbconvert_exporter": "python",
   "pygments_lexer": "ipython3",
   "version": "3.12.4"
  }
 },
 "nbformat": 4,
 "nbformat_minor": 2
}
