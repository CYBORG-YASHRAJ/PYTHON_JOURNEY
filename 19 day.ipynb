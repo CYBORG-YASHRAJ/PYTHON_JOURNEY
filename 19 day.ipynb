{
 "cells": [
  {
   "cell_type": "markdown",
   "metadata": {},
   "source": [
    "Function Arguments"
   ]
  },
  {
   "cell_type": "code",
   "execution_count": 29,
   "metadata": {},
   "outputs": [
    {
     "name": "stdout",
     "output_type": "stream",
     "text": [
      "<class 'tuple'>\n",
      "15.75\n"
     ]
    }
   ],
   "source": [
    "def average(*numbers):    # \"*\" is used to work with multiple arguments\n",
    "    print(type(numbers))\n",
    "    sum=0\n",
    "    for i in numbers:\n",
    "        sum=sum+i\n",
    "    print(sum/len(numbers))\n",
    "average(5,6,8,2,9,94,2,0) # can add as more number"
   ]
  },
  {
   "cell_type": "code",
   "execution_count": 30,
   "metadata": {},
   "outputs": [
    {
     "name": "stdout",
     "output_type": "stream",
     "text": [
      "<class 'dict'>\n",
      "hello James Buchanan barnes\n"
     ]
    }
   ],
   "source": [
    "def name(**name): # double star represents dictionary\n",
    "    print(type(name))\n",
    "    print(\"hello\",name[\"fname\"],name[\"mname\"],name[\"lname\"])\n",
    "name(mname=\"Buchanan\",lname=\"barnes\",fname=\"James\")"
   ]
  },
  {
   "cell_type": "code",
   "execution_count": 31,
   "metadata": {},
   "outputs": [
    {
     "name": "stdout",
     "output_type": "stream",
     "text": [
      "18.285714285714285\n"
     ]
    }
   ],
   "source": [
    "def average(*numbers): # double star represents dictionary\n",
    "    sum=0\n",
    "    for i in numbers:\n",
    "        sum=sum+i\n",
    "    #print(sum/len(numbers))\n",
    "    return sum/len(numbers)\n",
    "d=average(5,1,8,2,9,94,9)\n",
    "print(d)  \n",
    "\n",
    "        "
   ]
  }
 ],
 "metadata": {
  "kernelspec": {
   "display_name": "base",
   "language": "python",
   "name": "python3"
  },
  "language_info": {
   "codemirror_mode": {
    "name": "ipython",
    "version": 3
   },
   "file_extension": ".py",
   "mimetype": "text/x-python",
   "name": "python",
   "nbconvert_exporter": "python",
   "pygments_lexer": "ipython3",
   "version": "3.12.4"
  }
 },
 "nbformat": 4,
 "nbformat_minor": 2
}
