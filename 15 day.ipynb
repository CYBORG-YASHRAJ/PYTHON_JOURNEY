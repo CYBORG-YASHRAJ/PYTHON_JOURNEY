{
 "cells": [
  {
   "cell_type": "markdown",
   "metadata": {},
   "source": [
    "WHILE LOOPS IN PYTHON\n",
    "while loop runs until the condition becomes true.\n"
   ]
  },
  {
   "cell_type": "code",
   "execution_count": 17,
   "metadata": {},
   "outputs": [
    {
     "name": "stdout",
     "output_type": "stream",
     "text": [
      "0\n",
      "1\n",
      "2\n"
     ]
    }
   ],
   "source": [
    "for i in range(3):\n",
    "    print(i)"
   ]
  },
  {
   "cell_type": "code",
   "execution_count": 18,
   "metadata": {},
   "outputs": [
    {
     "name": "stdout",
     "output_type": "stream",
     "text": [
      "0\n",
      "1\n",
      "2\n",
      "3\n",
      "done with the loop\n"
     ]
    }
   ],
   "source": [
    "i=0\n",
    "while (i<=3):\n",
    "    print(i)\n",
    "    i=i+1\n",
    "print(\"done with the loop\")"
   ]
  },
  {
   "cell_type": "markdown",
   "metadata": {},
   "source": [
    "While loop is mostly used in complex programming\n",
    "Ques1 create a while loop which takes input from integer until user enters a number greater than 38."
   ]
  },
  {
   "cell_type": "code",
   "execution_count": 21,
   "metadata": {},
   "outputs": [
    {
     "name": "stdout",
     "output_type": "stream",
     "text": [
      "2\n",
      "3\n",
      "4\n",
      "12\n",
      "19\n",
      "22\n",
      "56\n"
     ]
    }
   ],
   "source": [
    "n=0\n",
    "while (n<38):\n",
    "    i=int(input(\"enter the number\"))\n",
    "    n=i\n",
    "    print(n)\n"
   ]
  },
  {
   "cell_type": "code",
   "execution_count": 22,
   "metadata": {},
   "outputs": [
    {
     "name": "stdout",
     "output_type": "stream",
     "text": [
      "5\n",
      "4\n",
      "3\n",
      "2\n",
      "1\n",
      "\n",
      "5\n",
      "4\n",
      "3\n",
      "2\n",
      "1\n",
      "im inside else\n"
     ]
    }
   ],
   "source": [
    "count=5\n",
    "for i in range(5,0,-1):\n",
    "    print(i)\n",
    "print()\n",
    "\n",
    "# Ques2 Write a while loop to print numbers from 5 to 1 in descending order.\n",
    "while (count>0):\n",
    "    print(count)\n",
    "    count=count-1\n",
    "else:\n",
    "    print(\"im inside else\")"
   ]
  },
  {
   "cell_type": "code",
   "execution_count": null,
   "metadata": {},
   "outputs": [],
   "source": []
  }
 ],
 "metadata": {
  "kernelspec": {
   "display_name": "base",
   "language": "python",
   "name": "python3"
  },
  "language_info": {
   "codemirror_mode": {
    "name": "ipython",
    "version": 3
   },
   "file_extension": ".py",
   "mimetype": "text/x-python",
   "name": "python",
   "nbconvert_exporter": "python",
   "pygments_lexer": "ipython3",
   "version": "3.12.4"
  }
 },
 "nbformat": 4,
 "nbformat_minor": 2
}
