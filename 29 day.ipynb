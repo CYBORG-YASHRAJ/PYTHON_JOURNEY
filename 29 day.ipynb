{
 "cells": [
  {
   "cell_type": "markdown",
   "metadata": {},
   "source": [
    "Dictionaries in Python"
   ]
  },
  {
   "cell_type": "code",
   "execution_count": 3,
   "metadata": {},
   "outputs": [
    {
     "name": "stdout",
     "output_type": "stream",
     "text": [
      "Human being\n"
     ]
    }
   ],
   "source": [
    "dic={\n",
    "    \"Yashraj\":\"Human being\",\n",
    "    \"spoon\":\"object\"\n",
    "}\n",
    "print(dic[\"Yashraj\"])"
   ]
  },
  {
   "cell_type": "code",
   "execution_count": 7,
   "metadata": {},
   "outputs": [
    {
     "name": "stdout",
     "output_type": "stream",
     "text": [
      "Ashutosh\n"
     ]
    }
   ],
   "source": [
    "dic2={\n",
    "    344:\"yashraj\",\n",
    "    56:\"Shubham\",\n",
    "    678:\"zakhir\",\n",
    "    901:\"Ashutosh\",\n",
    "}\n",
    "print(dic2[901])"
   ]
  },
  {
   "cell_type": "code",
   "execution_count": 12,
   "metadata": {},
   "outputs": [
    {
     "name": "stdout",
     "output_type": "stream",
     "text": [
      "yashraj\n",
      "18\n",
      "True\n",
      "dict_values(['yashraj', 18, True])\n",
      "dict_keys(['name', 'age', 'eligible'])\n",
      "name\n",
      "age\n",
      "eligible\n"
     ]
    }
   ],
   "source": [
    "info={'name':\"yashraj\",\"age\":18 ,\"eligible\":True}\n",
    "print(info[\"name\"])\n",
    "print(info[\"age\"])\n",
    "print(info[\"eligible\"])\n",
    "print(info.values())\n",
    "print(info.keys())\n",
    "for key in info.keys():\n",
    "    print(key)"
   ]
  },
  {
   "cell_type": "code",
   "execution_count": 13,
   "metadata": {},
   "outputs": [
    {
     "name": "stdout",
     "output_type": "stream",
     "text": [
      "dict_items([('name', 'yashraj'), ('age', 18), ('eligible', True)])\n"
     ]
    }
   ],
   "source": [
    "print(info.items())"
   ]
  },
  {
   "cell_type": "code",
   "execution_count": 16,
   "metadata": {},
   "outputs": [
    {
     "name": "stdout",
     "output_type": "stream",
     "text": [
      "name yashraj\n",
      "age 18\n",
      "eligible True\n"
     ]
    }
   ],
   "source": [
    "for key,value in info.items():\n",
    "    print(key,value)"
   ]
  },
  {
   "cell_type": "code",
   "execution_count": null,
   "metadata": {},
   "outputs": [],
   "source": []
  }
 ],
 "metadata": {
  "kernelspec": {
   "display_name": "base",
   "language": "python",
   "name": "python3"
  },
  "language_info": {
   "codemirror_mode": {
    "name": "ipython",
    "version": 3
   },
   "file_extension": ".py",
   "mimetype": "text/x-python",
   "name": "python",
   "nbconvert_exporter": "python",
   "pygments_lexer": "ipython3",
   "version": "3.12.4"
  }
 },
 "nbformat": 4,
 "nbformat_minor": 2
}
