{
 "cells": [
  {
   "cell_type": "markdown",
   "metadata": {},
   "source": [
    "BREAK AND CONTINUE\n",
    "break statement-breaks the statement when condition is satisfied"
   ]
  },
  {
   "cell_type": "code",
   "execution_count": 5,
   "metadata": {},
   "outputs": [
    {
     "name": "stdout",
     "output_type": "stream",
     "text": [
      "5X 1 = 5\n",
      "5X 2 = 10\n",
      "5X 3 = 15\n",
      "5X 4 = 20\n",
      "5X 5 = 25\n",
      "5X 6 = 30\n",
      "5X 7 = 35\n",
      "5X 8 = 40\n",
      "5X 9 = 45\n",
      "5X 10 = 50\n"
     ]
    }
   ],
   "source": [
    "for i in range(12):\n",
    "    if i==10:\n",
    "        break\n",
    "    print(\"5X\",i+1,\"=\",5*(i+1))"
   ]
  },
  {
   "cell_type": "code",
   "execution_count": 8,
   "metadata": {},
   "outputs": [
    {
     "name": "stdout",
     "output_type": "stream",
     "text": [
      "5X 0 = 0\n",
      "5X 1 = 5\n",
      "5X 2 = 10\n",
      "5X 3 = 15\n",
      "5X 4 = 20\n",
      "5X 5 = 25\n",
      "5X 6 = 30\n",
      "5X 7 = 35\n",
      "5X 8 = 40\n",
      "5X 9 = 45\n",
      "skips the iteration\n",
      "5X 11 = 55\n"
     ]
    }
   ],
   "source": [
    "for i in range(12):\n",
    "    if i==10:\n",
    "        print(\"skips the iteration\")\n",
    "        continue\n",
    "    print(\"5X\",i,\"=\",5*(i))"
   ]
  }
 ],
 "metadata": {
  "kernelspec": {
   "display_name": "base",
   "language": "python",
   "name": "python3"
  },
  "language_info": {
   "codemirror_mode": {
    "name": "ipython",
    "version": 3
   },
   "file_extension": ".py",
   "mimetype": "text/x-python",
   "name": "python",
   "nbconvert_exporter": "python",
   "pygments_lexer": "ipython3",
   "version": "3.12.4"
  }
 },
 "nbformat": 4,
 "nbformat_minor": 2
}
