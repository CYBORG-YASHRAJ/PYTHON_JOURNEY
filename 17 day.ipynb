{
 "cells": [
  {
   "cell_type": "markdown",
   "metadata": {},
   "source": [
    "FUNCTIONS IN PYTHON"
   ]
  },
  {
   "cell_type": "markdown",
   "metadata": {},
   "source": [
    "FUNCTION is a block of code that performs a specific task whenever it is called in bigger programs."
   ]
  },
  {
   "cell_type": "markdown",
   "metadata": {},
   "source": [
    "FUNCTIONS ARE MAINLY USED IN COMPLEX PROGRAMING"
   ]
  },
  {
   "cell_type": "code",
   "execution_count": 4,
   "metadata": {},
   "outputs": [
    {
     "name": "stdout",
     "output_type": "stream",
     "text": [
      "4.235294117647059\n",
      "3.7333333333333334\n"
     ]
    }
   ],
   "source": [
    "a=9\n",
    "b=8\n",
    "Gmean=(a*b)/(a+b)\n",
    "print(Gmean)\n",
    "c=8\n",
    "d=7\n",
    "gmean=(c*d)/(c+d)\n",
    "print(gmean)"
   ]
  },
  {
   "cell_type": "code",
   "execution_count": 5,
   "metadata": {},
   "outputs": [],
   "source": [
    "def calculateGmean(a,b):\n",
    "    mean=(a*b)/(a+b)\n",
    "    print(mean)"
   ]
  },
  {
   "cell_type": "code",
   "execution_count": 7,
   "metadata": {},
   "outputs": [
    {
     "name": "stdout",
     "output_type": "stream",
     "text": [
      "4.235294117647059\n",
      "7.2\n"
     ]
    }
   ],
   "source": [
    "calculateGmean(9,8)\n",
    "calculateGmean(12,18)"
   ]
  },
  {
   "cell_type": "code",
   "execution_count": 10,
   "metadata": {},
   "outputs": [
    {
     "name": "stdout",
     "output_type": "stream",
     "text": [
      "second number is greater than first 18\n"
     ]
    }
   ],
   "source": [
    "def isgreater(a,b):\n",
    "    if a>b:\n",
    "        print(\"first number is greater than second\",a)\n",
    "    else:\n",
    "        print(\"second number is greater than first\",b)\n",
    "a=int(input(\"enter the first number\"))\n",
    "b=int(input(\"enter the second number\"))\n",
    "isgreater(a,b)"
   ]
  },
  {
   "cell_type": "code",
   "execution_count": null,
   "metadata": {},
   "outputs": [],
   "source": [
    "def islesser(a,b):\n",
    "    pass #pass is used to execute further program when the function is not completely defined\n",
    " \n",
    "    \n",
    "    "
   ]
  },
  {
   "cell_type": "code",
   "execution_count": null,
   "metadata": {},
   "outputs": [],
   "source": []
  }
 ],
 "metadata": {
  "kernelspec": {
   "display_name": "base",
   "language": "python",
   "name": "python3"
  },
  "language_info": {
   "codemirror_mode": {
    "name": "ipython",
    "version": 3
   },
   "file_extension": ".py",
   "mimetype": "text/x-python",
   "name": "python",
   "nbconvert_exporter": "python",
   "pygments_lexer": "ipython3",
   "version": "3.12.4"
  }
 },
 "nbformat": 4,
 "nbformat_minor": 2
}
