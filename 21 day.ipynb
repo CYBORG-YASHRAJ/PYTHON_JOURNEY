{
 "cells": [
  {
   "cell_type": "markdown",
   "metadata": {},
   "source": [
    "LISTS METHODS IN PYTHON"
   ]
  },
  {
   "cell_type": "code",
   "execution_count": 38,
   "metadata": {},
   "outputs": [
    {
     "name": "stdout",
     "output_type": "stream",
     "text": [
      "[14, 34, 22, 76, 2, 90, 32, 11]\n"
     ]
    }
   ],
   "source": [
    "l=[14,34,22,76,2,90,32,11]\n",
    "print(l)"
   ]
  },
  {
   "cell_type": "markdown",
   "metadata": {},
   "source": [
    "append function"
   ]
  },
  {
   "cell_type": "code",
   "execution_count": 39,
   "metadata": {},
   "outputs": [
    {
     "name": "stdout",
     "output_type": "stream",
     "text": [
      "None\n",
      "[14, 34, 22, 76, 2, 90, 32, 11, 7]\n"
     ]
    }
   ],
   "source": [
    "print(l.append(7))\n",
    "print(l)"
   ]
  },
  {
   "cell_type": "markdown",
   "metadata": {},
   "source": [
    "list.sort(),ascending order"
   ]
  },
  {
   "cell_type": "code",
   "execution_count": 40,
   "metadata": {},
   "outputs": [
    {
     "name": "stdout",
     "output_type": "stream",
     "text": [
      "[2, 7, 11, 14, 22, 32, 34, 76, 90]\n"
     ]
    }
   ],
   "source": [
    "l.sort()\n",
    "print(l)"
   ]
  },
  {
   "cell_type": "markdown",
   "metadata": {},
   "source": [
    "list.sort(),descending order"
   ]
  },
  {
   "cell_type": "code",
   "execution_count": 41,
   "metadata": {},
   "outputs": [
    {
     "name": "stdout",
     "output_type": "stream",
     "text": [
      "[90, 76, 34, 32, 22, 14, 11, 7, 2]\n"
     ]
    }
   ],
   "source": [
    "l.sort(reverse=True)\n",
    "print(l)"
   ]
  },
  {
   "cell_type": "markdown",
   "metadata": {},
   "source": [
    "reverse()"
   ]
  },
  {
   "cell_type": "code",
   "execution_count": 42,
   "metadata": {},
   "outputs": [
    {
     "name": "stdout",
     "output_type": "stream",
     "text": [
      "[2, 7, 11, 14, 22, 32, 34, 76, 90]\n"
     ]
    }
   ],
   "source": [
    "l.reverse()\n",
    "print(l)"
   ]
  },
  {
   "cell_type": "markdown",
   "metadata": {},
   "source": [
    "Index()"
   ]
  },
  {
   "cell_type": "code",
   "execution_count": 43,
   "metadata": {},
   "outputs": [
    {
     "name": "stdout",
     "output_type": "stream",
     "text": [
      "8\n",
      "6\n",
      "2\n"
     ]
    }
   ],
   "source": [
    "print(l.index(90))\n",
    "print(l.index(34))\n",
    "print(l.index(11))"
   ]
  },
  {
   "cell_type": "markdown",
   "metadata": {},
   "source": [
    "Count()"
   ]
  },
  {
   "cell_type": "code",
   "execution_count": 44,
   "metadata": {},
   "outputs": [
    {
     "name": "stdout",
     "output_type": "stream",
     "text": [
      "1\n"
     ]
    }
   ],
   "source": [
    "print(l.count(76))"
   ]
  },
  {
   "cell_type": "markdown",
   "metadata": {},
   "source": [
    "Copy()"
   ]
  },
  {
   "cell_type": "code",
   "execution_count": 45,
   "metadata": {},
   "outputs": [
    {
     "name": "stdout",
     "output_type": "stream",
     "text": [
      "[0, 7, 11, 14, 22, 32, 34, 76, 90]     [2, 7, 11, 14, 22, 32, 34, 76, 90]\n",
      "[0, 34, 22, 76, 2, 90, 32, 11]\n",
      "[0, 34, 22, 76, 2, 90, 32, 11]\n"
     ]
    }
   ],
   "source": [
    "m=l.copy()\n",
    "m[0]=0\n",
    "print(m,\"   \",l)\n",
    "\n",
    "'''BUT'''\n",
    "\n",
    "f=[14,34,22,76,2,90,32,11]\n",
    "z=f\n",
    "z[0]=0\n",
    "print(f)\n",
    "print(z)"
   ]
  },
  {
   "cell_type": "markdown",
   "metadata": {},
   "source": [
    "Insert()"
   ]
  },
  {
   "cell_type": "code",
   "execution_count": 46,
   "metadata": {},
   "outputs": [
    {
     "name": "stdout",
     "output_type": "stream",
     "text": [
      "[799, 2, 7, 11, 14, 22, 32, 34, 76, 90]\n"
     ]
    }
   ],
   "source": [
    "l.insert(0,799)\n",
    "print(l)"
   ]
  },
  {
   "cell_type": "markdown",
   "metadata": {},
   "source": [
    "extend()"
   ]
  },
  {
   "cell_type": "code",
   "execution_count": 48,
   "metadata": {},
   "outputs": [
    {
     "name": "stdout",
     "output_type": "stream",
     "text": [
      "[799, 2, 7, 11, 14, 22, 32, 34, 76, 90, 20, 40, 60, 20, 40, 60]\n",
      "[799, 2, 7, 11, 14, 22, 32, 34, 76, 90, 20, 40, 60]\n",
      "[799, 2, 7, 11, 14, 22, 32, 34, 76, 90, 20, 40, 60, 20, 40, 60]\n"
     ]
    }
   ],
   "source": [
    "m=[20,40,60]\n",
    "\n",
    "k=l+m\n",
    "print(k)\n",
    "print(l)\n",
    "'''OR'''\n",
    "l.extend(m)\n",
    "print(l)\n",
    "\n",
    "\n"
   ]
  }
 ],
 "metadata": {
  "kernelspec": {
   "display_name": "base",
   "language": "python",
   "name": "python3"
  },
  "language_info": {
   "codemirror_mode": {
    "name": "ipython",
    "version": 3
   },
   "file_extension": ".py",
   "mimetype": "text/x-python",
   "name": "python",
   "nbconvert_exporter": "python",
   "pygments_lexer": "ipython3",
   "version": "3.12.4"
  }
 },
 "nbformat": 4,
 "nbformat_minor": 2
}
